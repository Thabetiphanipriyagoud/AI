{
  "nbformat": 4,
  "nbformat_minor": 0,
  "metadata": {
    "colab": {
      "name": "assignment1.ipynb",
      "provenance": [],
      "collapsed_sections": [],
      "authorship_tag": "ABX9TyPJ/sj5Y5SHT3VAvWWtZHg1",
      "include_colab_link": true
    },
    "kernelspec": {
      "name": "python3",
      "display_name": "Python 3"
    },
    "language_info": {
      "name": "python"
    }
  },
  "cells": [
    {
      "cell_type": "markdown",
      "metadata": {
        "id": "view-in-github",
        "colab_type": "text"
      },
      "source": [
        "<a href=\"https://colab.research.google.com/github/Thabetiphanipriyagoud/AI/blob/main/assignment1.ipynb\" target=\"_parent\"><img src=\"https://colab.research.google.com/assets/colab-badge.svg\" alt=\"Open In Colab\"/></a>"
      ]
    },
    {
      "cell_type": "code",
      "metadata": {
        "colab": {
          "base_uri": "https://localhost:8080/"
        },
        "id": "mqW_1nS1h7JF",
        "outputId": "2bbf0fd0-4396-44de-f54e-33c658f05bc9"
      },
      "source": [
        "from scipy.optimize import linprog\n",
        "obj = [-50,-120]\n",
        "A_ieq=[[7000,2000],[10,30]]\n",
        "b_ieq=[700000,1200]\n",
        "boundary=[(0,float('inf')),(0,float('inf'))]\n",
        "opt = linprog(c=obj,A_ub=A_ieq,b_ub=b_ieq,A_eq=None,b_eq=None,bounds=boundary,method=\"simplex\")\n",
        "print('No of hectares allocated for Wheat : ', round(opt.x[0]),'\\nNo of labors required for Wheat crop : ',10*round(opt.x[0]),'\\nNo of hectares allocated for Barley : ' ,round(opt.x[1]),'\\nNo of labors required for Barley crop : ',30*round(opt.x[1]))\n",
        "print('profit : ',50*round(opt.x[0])+120*round(opt.x[1]))"
      ],
      "execution_count": 1,
      "outputs": [
        {
          "output_type": "stream",
          "text": [
            "No of hectares allocated for Wheat :  98 \n",
            "No of labors required for Wheat crop :  980 \n",
            "No of hectares allocated for Barley :  7 \n",
            "No of labors required for Barley crop :  210\n",
            "profit :  5740\n"
          ],
          "name": "stdout"
        }
      ]
    }
  ]
}